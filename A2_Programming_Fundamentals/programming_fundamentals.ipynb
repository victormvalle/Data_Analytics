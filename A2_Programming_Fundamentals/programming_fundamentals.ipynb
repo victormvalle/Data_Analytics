{
 "cells": [
  {
   "cell_type": "markdown",
   "metadata": {
    "id": "USgNaQC8fB1q"
   },
   "source": [
    "# Instructions\n",
    "\n",
    "**Rationale.** The fundamentals of programming (data types, conditional statements, loops, functions) are necessary for you to develop a foundation on which to build data analytics skills. This assignment consists of 2 parts. In the first part, correct the existing code to successfully accomplish the stated task. In the second part, you will be asked to write your own code.\n",
    "\n",
    "Feel free to add additional cells if/when necessary. Comment your solutions to explain your code to communicate your reasoning. This may help you receive partial credit."
   ]
  },
  {
   "cell_type": "markdown",
   "metadata": {
    "id": "l5vgtMP0fzdZ"
   },
   "source": [
    "# Part 1 - Fix the code.\n",
    "\n",
    "Note that there may be multiple mistakes in the code."
   ]
  },
  {
   "cell_type": "markdown",
   "metadata": {
    "id": "apqz0JS5gKmI"
   },
   "source": [
    "1. (3 points) Loop through customer names and select only the ones whose **first name begins with \"A\"**"
   ]
  },
  {
   "cell_type": "code",
   "execution_count": null,
   "metadata": {
    "colab": {
     "base_uri": "https://localhost:8080/"
    },
    "executionInfo": {
     "elapsed": 15,
     "status": "ok",
     "timestamp": 1695087482973,
     "user": {
      "displayName": "Victor Valle",
      "userId": "07573662443360542717"
     },
     "user_tz": 360
    },
    "id": "OQzktOjDgPC8",
    "outputId": "6b1c55e4-9e1f-4d48-ed24-69d42c9f7cd5"
   },
   "outputs": [
    {
     "name": "stdout",
     "output_type": "stream",
     "text": [
      "['Adam', 'Anne', 'Alex']\n"
     ]
    }
   ],
   "source": [
    "customers = [('Adam', 'Smith'),('Mary', 'Samsonite'),('Pancho', 'Sanchez'),('Lily', 'Wang'),('Curtis', 'Jackson'),('Anne', 'Shirley'),('Alex', 'Hamilton'),('Bill', 'Shakespeare'),('Steve', 'Sondeheim')]\n",
    "# use a list comprehension to select the customer name tuples for which\n",
    "# the 1st item (first name) begins with 'A'\n",
    "# acustomers = [f in f for customers when c[1]=='a']\n",
    "acustomers = [f[0] for f in customers if 'A' in f[0]]\n",
    "print(acustomers)"
   ]
  },
  {
   "cell_type": "markdown",
   "metadata": {
    "id": "akJIzDg-hWCQ"
   },
   "source": [
    "2. (3 points) Fix the function below that computes the break even price given a product's marginal costs (MC), fixed costs to set up a factory line (FC), and some quantity produced, (Q). Run the function on a series of production quantities given an MC and FC to compute the corresponding break even prices.\n",
    "\n",
    "Note, break even means the revenue = total costs, i.e. $P\\times Q = FC+Q*MC$. One can solve this equation for $P$ to get the break even price, $P = \\frac{FC}{Q}+MC$.\n"
   ]
  },
  {
   "cell_type": "code",
   "execution_count": null,
   "metadata": {
    "id": "BhsAUHF3ile9"
   },
   "outputs": [],
   "source": [
    "def breakevenprice(FC, MC, Q): # fix this line\n",
    "    P = FC/Q + MC # fix this line\n",
    "    return P"
   ]
  },
  {
   "cell_type": "code",
   "execution_count": null,
   "metadata": {
    "colab": {
     "base_uri": "https://localhost:8080/"
    },
    "executionInfo": {
     "elapsed": 4,
     "status": "ok",
     "timestamp": 1695087485503,
     "user": {
      "displayName": "Victor Valle",
      "userId": "07573662443360542717"
     },
     "user_tz": 360
    },
    "id": "DRedJYf6mwqV",
    "outputId": "9ff94520-de02-4959-dc50-abd4f37336b6"
   },
   "outputs": [
    {
     "name": "stdout",
     "output_type": "stream",
     "text": [
      "[60.0, 40.0, 33.333333333333336, 30.0, 28.0, 26.666666666666668]\n"
     ]
    }
   ],
   "source": [
    "# Don't change this part\n",
    "Quantities = [500,1000,1500,2000,2500,3000]\n",
    "FC = 20000\n",
    "MC = 20\n",
    "\n",
    "# fix the errors here:\n",
    "# make sure the list of break even prices is printed JUST ONCE\n",
    "BEPrices = list()\n",
    "for Q in Quantities: # loop through Qunatities (error here)\n",
    "    P = breakevenprice(FC, MC, Q) # compute break even price (error here)\n",
    "    BEPrices.append(P) # append break even price to the list BEPrices (error here)\n",
    "print(BEPrices) # Print out all the break even prices (error here)"
   ]
  },
  {
   "cell_type": "markdown",
   "metadata": {
    "id": "F5KPe1rgnQ9E"
   },
   "source": [
    "# Part 2 (4 points) - Write your own code to solve the problem\n",
    "\n",
    "Suppose you have a list of leads that need to be qualified. Each lead is composed of the following things:\n",
    "\n",
    "1. ID (integer)\n",
    "1. Income (Integer)\n",
    "1. Debt (Integer)\n",
    "1. Married (1 for married, 0 for not)\n",
    "\n",
    "Your company has 2 different offers depending on the qualifications of the individual, offer A and offer B.\n",
    "\n",
    "1. Offer A qualification:\n",
    "    1. Income is **at least** double their total debt.\n",
    "    1. Marital status does not matter.\n",
    "1. Offer B qualifications:\n",
    "    1. Income is less than twice their total debt\n",
    "    1. but (income) greater than or equal to half their total debt.\n",
    "    1. Must be married.\n",
    "1. Otherwise, no offer is to be made.\n",
    "\n",
    "Write a function called `offer` that (**2 points**)\n",
    "1. takes as input: one record of a lead\n",
    "1. returns \"A\", \"B\", or \"None\" based on the rules above.\n",
    "\n",
    "**Test this function on a list of leads provided below.** (**2 points**)\n",
    "\n",
    "Each lead is a tuple of (ID, income, debt, married), i.e. (1, 25000, 12000, 1) is id 1, 25k income, 12k debt, and married."
   ]
  },
  {
   "cell_type": "code",
   "execution_count": null,
   "metadata": {
    "id": "6Ygmlk7psA0B"
   },
   "outputs": [],
   "source": [
    "# Write your function here\n",
    "# Hint: your function should have the following STRUCTURE\n",
    "# specifics will need to be changed\n",
    "# def offer(record):\n",
    "    # if condition1: # for offer A\n",
    "    #     do something\n",
    "    # elif condition2: # for offer B\n",
    "    #     do something\n",
    "    # else: # no offer to be made\n",
    "    #     do something else\n",
    "\n",
    "def offer(record):\n",
    "  ID = record[0]\n",
    "  income = record[1]\n",
    "  debt = record[2]\n",
    "  married = record[3]\n",
    "\n",
    "  if income >= 2*debt and married == 1 or married == 0:\n",
    "    return \"A\"\n",
    "  elif income < 2*debt and income >= debt/2 and married == 1:\n",
    "    return \"B\"\n",
    "  else:\n",
    "    return \"No Offer\"\n"
   ]
  },
  {
   "cell_type": "code",
   "execution_count": null,
   "metadata": {
    "colab": {
     "base_uri": "https://localhost:8080/",
     "height": 35
    },
    "executionInfo": {
     "elapsed": 13,
     "status": "ok",
     "timestamp": 1695087488204,
     "user": {
      "displayName": "Victor Valle",
      "userId": "07573662443360542717"
     },
     "user_tz": 360
    },
    "id": "vuCLzRyubO1V",
    "outputId": "a443185b-7e70-4962-90e6-a0ff07ab4bb8"
   },
   "outputs": [
    {
     "data": {
      "application/vnd.google.colaboratory.intrinsic+json": {
       "type": "string"
      },
      "text/plain": [
       "'A'"
      ]
     },
     "execution_count": 17,
     "metadata": {},
     "output_type": "execute_result"
    }
   ],
   "source": [
    "# Test your function on a single record to make sure it works\n",
    "r = (1, 25000,12000,1)\n",
    "# does your function work on r? i.e. does offer(r) return the expected offer?\n",
    "# Try changing values of r to see if it gives the expected offer each time\n",
    "offer(r)"
   ]
  },
  {
   "cell_type": "code",
   "execution_count": null,
   "metadata": {
    "colab": {
     "base_uri": "https://localhost:8080/"
    },
    "executionInfo": {
     "elapsed": 274,
     "status": "ok",
     "timestamp": 1695087489423,
     "user": {
      "displayName": "Victor Valle",
      "userId": "07573662443360542717"
     },
     "user_tz": 360
    },
    "id": "n9ZWfK8IndYl",
    "outputId": "6100cdaf-0beb-4ab0-dc00-425d303d793f"
   },
   "outputs": [
    {
     "name": "stdout",
     "output_type": "stream",
     "text": [
      "A\n",
      "A\n",
      "B\n",
      "A\n",
      "No Offer\n",
      "A\n"
     ]
    }
   ],
   "source": [
    "# Write a loop to execute the function offer on each of the records\n",
    "# in the list leads.\n",
    "leads = [(1, 25000,12000,1),(2, 50000,25000,0),(3, 125000,200000,1),(4, 25000,0,0),(5, 30000,80000,1),(6, 50000,80000,0)]\n",
    "\n",
    "# Write your loop here (you can also use a list comprehension instead of loop)\n",
    "# loop through each lead in \"leads\" and execute the offer function on that lead\n",
    "\n",
    "x=0\n",
    "while x < len(leads):\n",
    "  print(offer(leads[x]))\n",
    "  x+=1\n"
   ]
  },
  {
   "cell_type": "code",
   "execution_count": null,
   "metadata": {
    "id": "hkmg53uzCx5D"
   },
   "outputs": [],
   "source": []
  }
 ],
 "metadata": {
  "colab": {
   "provenance": [
    {
     "file_id": "1GFFBG-GfhHLnFY_13F4-xegF0Oj9vTlL",
     "timestamp": 1695047701688
    },
    {
     "file_id": "1-HRnTtyRb1wOJIzkOQ32PufG5DTwO2Tw",
     "timestamp": 1662252479857
    }
   ]
  },
  "kernelspec": {
   "display_name": "Python 3",
   "name": "python3"
  }
 },
 "nbformat": 4,
 "nbformat_minor": 0
}
